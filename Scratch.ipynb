{
 "cells": [
  {
   "cell_type": "code",
   "execution_count": 12,
   "id": "powered-lesson",
   "metadata": {},
   "outputs": [],
   "source": [
    "import re\n",
    "\n",
    "def find_pattern(patterns,text):\n",
    "    return re.search(patterns,text,flags=re.I)"
   ]
  },
  {
   "cell_type": "code",
   "execution_count": 14,
   "id": "refined-portfolio",
   "metadata": {},
   "outputs": [
    {
     "data": {
      "text/plain": [
       "<re.Match object; span=(0, 1), match='a'>"
      ]
     },
     "execution_count": 14,
     "metadata": {},
     "output_type": "execute_result"
    }
   ],
   "source": [
    "find_pattern('a*','abc')"
   ]
  },
  {
   "cell_type": "code",
   "execution_count": 15,
   "id": "provincial-consequence",
   "metadata": {},
   "outputs": [],
   "source": [
    "import re\n",
    "\n",
    "def match_pattern(patterns,text):\n",
    "    if(re.match(patterns,text)):\n",
    "        return re.match(patterns,text)\n",
    "    else:\n",
    "        return \"Not Found\""
   ]
  },
  {
   "cell_type": "code",
   "execution_count": 16,
   "id": "liberal-pixel",
   "metadata": {},
   "outputs": [
    {
     "data": {
      "text/plain": [
       "<re.Match object; span=(0, 1), match='a'>"
      ]
     },
     "execution_count": 16,
     "metadata": {},
     "output_type": "execute_result"
    }
   ],
   "source": [
    "match_pattern('a*',\"abc\")"
   ]
  },
  {
   "cell_type": "code",
   "execution_count": null,
   "id": "flush-fireplace",
   "metadata": {},
   "outputs": [],
   "source": []
  }
 ],
 "metadata": {
  "kernelspec": {
   "display_name": "Python 3",
   "language": "python",
   "name": "python3"
  },
  "language_info": {
   "codemirror_mode": {
    "name": "ipython",
    "version": 3
   },
   "file_extension": ".py",
   "mimetype": "text/x-python",
   "name": "python",
   "nbconvert_exporter": "python",
   "pygments_lexer": "ipython3",
   "version": "3.9.1"
  }
 },
 "nbformat": 4,
 "nbformat_minor": 5
}
